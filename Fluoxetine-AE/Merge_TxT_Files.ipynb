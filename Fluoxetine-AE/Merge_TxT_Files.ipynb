{
  "nbformat": 4,
  "nbformat_minor": 0,
  "metadata": {
    "colab": {
      "provenance": []
    },
    "kernelspec": {
      "name": "python3",
      "display_name": "Python 3"
    },
    "language_info": {
      "name": "python"
    }
  },
  "cells": [
    {
      "cell_type": "code",
      "execution_count": null,
      "metadata": {
        "id": "EVFhG2iqWI71"
      },
      "outputs": [],
      "source": [
        "import tkinter as tk\n",
        "from tkinter import filedialog, messagebox\n",
        "\n",
        "\n",
        "def merge_files():\n",
        "    # Open file dialog to select multiple txt files\n",
        "    file_paths = filedialog.askopenfilenames(filetypes=[(\"Text Files\", \"*.txt\")])\n",
        "    if len(file_paths) < 2:\n",
        "        messagebox.showwarning(\"Warning\", \"Please select at least two txt files.\")\n",
        "        return\n",
        "\n",
        "    # Read and merge file contents\n",
        "    try:\n",
        "        # Read the content of the first file\n",
        "        with open(file_paths[0], 'r', encoding='utf-8') as first_file:\n",
        "            merged_content = first_file.read()\n",
        "\n",
        "        # Read and merge the remaining files (skipping the first line of each)\n",
        "        for file_path in file_paths[1:]:\n",
        "            with open(file_path, 'r', encoding='utf-8') as file:\n",
        "                lines = file.readlines()[1:]\n",
        "                merged_content += '\\n' + ''.join(lines).lstrip('\\n')\n",
        "\n",
        "        # Open save file dialog\n",
        "        save_path = filedialog.asksaveasfilename(\n",
        "            defaultextension=\".txt\",\n",
        "            filetypes=[(\"Text Files\", \"*.txt\")],\n",
        "            title=\"Save merged file\"\n",
        "        )\n",
        "        if not save_path:\n",
        "            messagebox.showwarning(\"Warning\", \"File not saved, operation cancelled.\")\n",
        "            return\n",
        "\n",
        "        # Write the merged content to the chosen file\n",
        "        with open(save_path, 'w', encoding='utf-8') as merged_file:\n",
        "            merged_file.write(merged_content)\n",
        "\n",
        "        messagebox.showinfo(\"Done\", f\"File successfully saved to:\\n{save_path}\")\n",
        "\n",
        "    except Exception as e:\n",
        "        messagebox.showerror(\"Error\", f\"An error occurred while merging files:\\n{str(e)}\")\n",
        "\n",
        "# Create main window\n",
        "root = tk.Tk()\n",
        "root.title(\"File Merger\")\n",
        "\n",
        "# Create merge button\n",
        "merge_button = tk.Button(root, text=\"Select files and merge\", command=merge_files)\n",
        "merge_button.pack(padx=20, pady=20)\n",
        "\n",
        "# Run the main loop\n",
        "root.mainloop()"
      ]
    },
    {
      "cell_type": "code",
      "source": [],
      "metadata": {
        "id": "01wecm5YYsum"
      },
      "execution_count": null,
      "outputs": []
    }
  ]
}